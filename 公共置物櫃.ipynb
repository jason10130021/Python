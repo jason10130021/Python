{
 "cells": [
  {
   "cell_type": "code",
   "execution_count": 1,
   "metadata": {},
   "outputs": [],
   "source": [
    "import numpy\n",
    "import pandas\n",
    "import time\n",
    "numbers= list(range(1,31))\n",
    "columns=[\"start\", \"end\", \"password\",\"emptiness\"]\n",
    "locker = pandas.DataFrame(index=numbers, columns=columns)\n",
    "for i in range(1,31):\n",
    "    locker.loc[i, \"start\"]=0\n",
    "    locker.loc[i, \"end\"]=0\n",
    "    locker.loc[i, \"emptiness\"]=True"
   ]
  },
  {
   "cell_type": "code",
   "execution_count": 2,
   "metadata": {},
   "outputs": [],
   "source": [
    "def checker(num): \n",
    "    tries= 3\n",
    "    for j in range(1,5):\n",
    "        if tries==0:\n",
    "            return False\n",
    "            break\n",
    "        pw_check= input(\"請輸入設定的密碼: \")        \n",
    "        if pw_check== locker.loc[num, \"password\"]:\n",
    "            return True\n",
    "            break\n",
    "        else: \n",
    "            tries=tries-1\n",
    "            print(\"密碼錯誤!!還有 {}次機會\".format(tries))"
   ]
  },
  {
   "cell_type": "code",
   "execution_count": null,
   "metadata": {},
   "outputs": [
    {
     "name": "stdout",
     "output_type": "stream",
     "text": [
      "歡迎使用校園免費置物櫃\n"
     ]
    }
   ],
   "source": [
    "n= 5\n",
    "while n>0:\n",
    "    print(\"歡迎使用校園免費置物櫃\")\n",
    "    num= int(input(\"請輸入要使用的櫃子號碼(1-30): \"))\n",
    "    if locker.loc[num, \"emptiness\"]==True:\n",
    "        locker.loc[num, \"password\"]= input(\"物品放妥後，請關門，並設定密碼: \")\n",
    "        locker.loc[num, \"emptiness\"]= False\n",
    "        locker.loc[num, \"start\"]= time.time()\n",
    "        print(\"置物櫃已上鎖\")\n",
    "    elif locker.loc[num, \"emptiness\"]==False:\n",
    "        ans= checker(num)\n",
    "        if ans==True:\n",
    "            print(\"開啟置物櫃\")\n",
    "            print(\"請確認櫃內物品都有拿走\")\n",
    "            locker.loc[num, \"emptiness\"]= True"
   ]
  },
  {
   "cell_type": "code",
   "execution_count": null,
   "metadata": {},
   "outputs": [],
   "source": []
  }
 ],
 "metadata": {
  "kernelspec": {
   "display_name": "Python 3",
   "language": "python",
   "name": "python3"
  },
  "language_info": {
   "codemirror_mode": {
    "name": "ipython",
    "version": 3
   },
   "file_extension": ".py",
   "mimetype": "text/x-python",
   "name": "python",
   "nbconvert_exporter": "python",
   "pygments_lexer": "ipython3",
   "version": "3.6.5"
  }
 },
 "nbformat": 4,
 "nbformat_minor": 2
}
